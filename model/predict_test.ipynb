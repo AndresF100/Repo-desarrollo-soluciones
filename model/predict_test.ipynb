{
      "cells": [
            {
                  "cell_type": "code",
                  "execution_count": 1,
                  "metadata": {},
                  "outputs": [
                        {
                              "name": "stdout",
                              "output_type": "stream",
                              "text": [
                                    "Cargando modelo desde models:/v2_best_model/latest\n"
                              ]
                        },
                        {
                              "name": "stderr",
                              "output_type": "stream",
                              "text": [
                                    "d:\\Python 3.12\\Lib\\site-packages\\mlflow\\store\\artifact\\utils\\models.py:31: FutureWarning: ``mlflow.tracking.client.MlflowClient.get_latest_versions`` is deprecated since 2.9.0. Model registry stages will be removed in a future major release. To learn more about the deprecation of model registry stages, see our migration guide here: https://mlflow.org/docs/latest/model-registry.html#migrating-from-stages\n",
                                    "  latest = client.get_latest_versions(name, None if stage is None else [stage])\n",
                                    "d:\\Python 3.12\\Lib\\site-packages\\tqdm\\auto.py:21: TqdmWarning: IProgress not found. Please update jupyter and ipywidgets. See https://ipywidgets.readthedocs.io/en/stable/user_install.html\n",
                                    "  from .autonotebook import tqdm as notebook_tqdm\n",
                                    "Downloading artifacts: 100%|██████████| 5/5 [00:00<00:00, 22.31it/s]\n"
                              ]
                        }
                  ],
                  "source": [
                        "import mlflow\n",
                        "from dotenv import load_dotenv\n",
                        "import os\n",
                        "import sys\n",
                        "import pandas as pd\n",
                        "\n",
                        "path=os.path.abspath(os.path.join(os.getcwd(), \"../..\"))\n",
                        "sys.path.append(os.path.abspath(os.path.join(os.getcwd(), \"../..\")))\n",
                        "\n",
                        "# Carga las variables de entorno\n",
                        "load_dotenv(f\"{path}/.env.mlflow_server\")\n",
                        "\n",
                        "# Establece la URI de MLflow\n",
                        "mlflow.set_tracking_uri(f\"http://{os.getenv(\"MLFLOW_MACHINE_IP\")}:8050\")\n",
                        "\n",
                        "model_uri = f\"models:/{os.getenv(\"MLFLOW_MODEL_NAME\")}/latest\"\n",
                        "print(f\"Cargando modelo desde {model_uri}\")\n",
                        "model = mlflow.sklearn.load_model(model_uri)\n",
                        "\n",
                        "\n"
                  ]
            },
            {
                  "cell_type": "markdown",
                  "metadata": {},
                  "source": [
                        "# Revisión del f1 score"
                  ]
            },
            {
                  "cell_type": "code",
                  "execution_count": 2,
                  "metadata": {},
                  "outputs": [
                        {
                              "name": "stdout",
                              "output_type": "stream",
                              "text": [
                                    "🔮 Predicción: [1 1 1 ... 1 0 1]\n",
                                    "f1_score: 0.8413474477728583\n"
                              ]
                        }
                  ],
                  "source": [
                        "import scipy.sparse\n",
                        "import pandas as pd\n",
                        "from sklearn.metrics import f1_score\n",
                        "\n",
                        "\n",
                        "X_test = scipy.sparse.load_npz(f\"{path}/data/processed/X_test.npz\")\n",
                        "y_test = pd.read_csv(f\"{path}/data/processed/y_test.csv\")\n",
                        "\n",
                        "# Predicción\n",
                        "predictions = model.predict(X_test)\n",
                        "print(\"🔮 Predicción:\", predictions)\n",
                        "\n",
                        "\n",
                        "f1 = f1_score(y_test, predictions, average='weighted')\n",
                        "print(\"f1_score:\", f1)\n",
                        "\n"
                  ]
            },
            {
                  "cell_type": "markdown",
                  "metadata": {},
                  "source": [
                        "# Predicción con datos de entrada por el usuario"
                  ]
            },
            {
                  "cell_type": "code",
                  "execution_count": 3,
                  "metadata": {},
                  "outputs": [
                        {
                              "data": {
                                    "application/vnd.microsoft.datawrangler.viewer.v0+json": {
                                          "columns": [
                                                {
                                                      "name": "index",
                                                      "rawType": "int64",
                                                      "type": "integer"
                                                },
                                                {
                                                      "name": "dto_igdacmlmasolicitudes",
                                                      "rawType": "object",
                                                      "type": "string"
                                                },
                                                {
                                                      "name": "pcl_igdacmlmasolicitudes",
                                                      "rawType": "object",
                                                      "type": "string"
                                                },
                                                {
                                                      "name": "tipo_siniestro_igdacmlmasolicitudes",
                                                      "rawType": "int64",
                                                      "type": "integer"
                                                },
                                                {
                                                      "name": "fecha_siniestro_igdacmlmasolicitudes",
                                                      "rawType": "object",
                                                      "type": "string"
                                                },
                                                {
                                                      "name": "hora_at_igatepmafurat",
                                                      "rawType": "int64",
                                                      "type": "integer"
                                                },
                                                {
                                                      "name": "ind_tipo_jornada_at_igatepmafurat",
                                                      "rawType": "int64",
                                                      "type": "integer"
                                                },
                                                {
                                                      "name": "ind_realizando_trabajo_hab_at_igatepmafurat",
                                                      "rawType": "object",
                                                      "type": "string"
                                                },
                                                {
                                                      "name": "horas_previo_at_igatepmafurat",
                                                      "rawType": "int64",
                                                      "type": "integer"
                                                },
                                                {
                                                      "name": "id_municipio_at_igatepmafurat",
                                                      "rawType": "int64",
                                                      "type": "integer"
                                                },
                                                {
                                                      "name": "ind_sitio_ocurrencia_igatepmafurat",
                                                      "rawType": "int64",
                                                      "type": "integer"
                                                },
                                                {
                                                      "name": "id_tipo_lesion_igatepmafurat",
                                                      "rawType": "int64",
                                                      "type": "integer"
                                                },
                                                {
                                                      "name": "id_parte_cuerpo_igatepmafurat",
                                                      "rawType": "int64",
                                                      "type": "integer"
                                                },
                                                {
                                                      "name": "id_agente_at_igatepmafurat",
                                                      "rawType": "int64",
                                                      "type": "integer"
                                                },
                                                {
                                                      "name": "id_mecanismo_at_igatepmafurat",
                                                      "rawType": "int64",
                                                      "type": "integer"
                                                },
                                                {
                                                      "name": "ind_testigo_at_igatepmafurat",
                                                      "rawType": "int64",
                                                      "type": "integer"
                                                },
                                                {
                                                      "name": "descripcion_at_igatepmafurat",
                                                      "rawType": "object",
                                                      "type": "string"
                                                },
                                                {
                                                      "name": "id_medio_recepcion_igatepmafurat",
                                                      "rawType": "int64",
                                                      "type": "integer"
                                                },
                                                {
                                                      "name": "centro_trabajo_igual_igatepmafurat",
                                                      "rawType": "int64",
                                                      "type": "integer"
                                                },
                                                {
                                                      "name": "accidente_grave_igatepmafurat",
                                                      "rawType": "object",
                                                      "type": "string"
                                                },
                                                {
                                                      "name": "riesgo_biologico_igatepmafurat",
                                                      "rawType": "object",
                                                      "type": "string"
                                                },
                                                {
                                                      "name": "id_sitio_ocurrencia_igatepmafurat",
                                                      "rawType": "int64",
                                                      "type": "integer"
                                                }
                                          ],
                                          "conversionMethod": "pd.DataFrame",
                                          "ref": "dc82c6bc-363d-4afb-a139-2410a3e77f15",
                                          "rows": [
                                                [
                                                      "0",
                                                      "s",
                                                      "s",
                                                      "0",
                                                      "2009-03-05 00:00:00+00:00",
                                                      "9",
                                                      "1",
                                                      "s",
                                                      "2",
                                                      "1",
                                                      "2",
                                                      "41",
                                                      "446",
                                                      "336",
                                                      "9",
                                                      "1",
                                                      "el trabajador se encontraba realizando su labor habitual retirando cabezas de res en ese poseso al afilar la herramienta se le paso el cuchillo generã ndole una herida en el dedo corazã n de la mano derecha",
                                                      "5",
                                                      "1",
                                                      "n",
                                                      "n",
                                                      "1"
                                                ],
                                                [
                                                      "1",
                                                      "s",
                                                      "s",
                                                      "0",
                                                      "2009-03-04 00:00:00+00:00",
                                                      "1",
                                                      "1",
                                                      "s",
                                                      "7",
                                                      "1",
                                                      "2",
                                                      "55",
                                                      "3",
                                                      "5",
                                                      "3",
                                                      "0",
                                                      "el trabajador se encontraba lavando el chasis de una tractomula y el seguro del guardallanta le golpeo el costado izquierdo obs sede principal empresa calle 26 norte nâº 2b n 18 cali tel 6820088 accidente 2 06 1986 ingreso a la empresa 13 03 2009 ocupaciã n lavador de tractomulas",
                                                      "5",
                                                      "1",
                                                      "n",
                                                      "n",
                                                      "1"
                                                ],
                                                [
                                                      "2",
                                                      "s",
                                                      "s",
                                                      "0",
                                                      "2009-03-05 00:00:00+00:00",
                                                      "13",
                                                      "1",
                                                      "s",
                                                      "5",
                                                      "1",
                                                      "2",
                                                      "55",
                                                      "4",
                                                      "5",
                                                      "1",
                                                      "0",
                                                      "el trabajador se encontraba sentandose en una silla y a esta se quebro ocasionandole una caida con golpe en el hombro derechodirecciã n sede principal avenida 19 n 97 31 oficina 204centro de trabajo avenida 19 n 97 31 oficina 204cargo ingeniero juniorsalario 1300000fecha de ingreso 04 03 2009",
                                                      "5",
                                                      "1",
                                                      "n",
                                                      "n",
                                                      "1"
                                                ],
                                                [
                                                      "3",
                                                      "s",
                                                      "s",
                                                      "0",
                                                      "2009-03-04 00:00:00+00:00",
                                                      "11",
                                                      "1",
                                                      "s",
                                                      "6",
                                                      "1",
                                                      "2",
                                                      "50",
                                                      "112",
                                                      "4",
                                                      "9",
                                                      "0",
                                                      "el trabajador se encontraba en la labor habitual estaba en la empresa y en ese momento le cayo un cuerpo extraã o en el ojo izquierdo ocasionã ndole dolor e irritaciã n observacionesdir empresa crr 63 68 87 dir ct crr 63 68 87 fecha de ingreso 01 01 2009",
                                                      "5",
                                                      "1",
                                                      "n",
                                                      "n",
                                                      "1"
                                                ],
                                                [
                                                      "4",
                                                      "s",
                                                      "s",
                                                      "0",
                                                      "2009-03-05 00:00:00+00:00",
                                                      "13",
                                                      "1",
                                                      "s",
                                                      "5",
                                                      "1",
                                                      "7",
                                                      "55",
                                                      "4",
                                                      "5",
                                                      "1",
                                                      "1",
                                                      "el trabajador se encontraba en sus labores habituales sentada en el escritorio elaborando un informe cuando al correr la silla para atrã s se parte y cae al piso ocasionã ndole golpe en hombro codo y muã eca derecho y hematoma en cabeza parte derechaobservaciones dir prin calle 4 b nâº 36 00tel prin ",
                                                      "5",
                                                      "1",
                                                      "n",
                                                      "n",
                                                      "1"
                                                ]
                                          ],
                                          "shape": {
                                                "columns": 21,
                                                "rows": 5
                                          }
                                    },
                                    "text/html": [
                                          "<div>\n",
                                          "<style scoped>\n",
                                          "    .dataframe tbody tr th:only-of-type {\n",
                                          "        vertical-align: middle;\n",
                                          "    }\n",
                                          "\n",
                                          "    .dataframe tbody tr th {\n",
                                          "        vertical-align: top;\n",
                                          "    }\n",
                                          "\n",
                                          "    .dataframe thead th {\n",
                                          "        text-align: right;\n",
                                          "    }\n",
                                          "</style>\n",
                                          "<table border=\"1\" class=\"dataframe\">\n",
                                          "  <thead>\n",
                                          "    <tr style=\"text-align: right;\">\n",
                                          "      <th></th>\n",
                                          "      <th>dto_igdacmlmasolicitudes</th>\n",
                                          "      <th>pcl_igdacmlmasolicitudes</th>\n",
                                          "      <th>tipo_siniestro_igdacmlmasolicitudes</th>\n",
                                          "      <th>fecha_siniestro_igdacmlmasolicitudes</th>\n",
                                          "      <th>hora_at_igatepmafurat</th>\n",
                                          "      <th>ind_tipo_jornada_at_igatepmafurat</th>\n",
                                          "      <th>ind_realizando_trabajo_hab_at_igatepmafurat</th>\n",
                                          "      <th>horas_previo_at_igatepmafurat</th>\n",
                                          "      <th>id_municipio_at_igatepmafurat</th>\n",
                                          "      <th>ind_sitio_ocurrencia_igatepmafurat</th>\n",
                                          "      <th>...</th>\n",
                                          "      <th>id_parte_cuerpo_igatepmafurat</th>\n",
                                          "      <th>id_agente_at_igatepmafurat</th>\n",
                                          "      <th>id_mecanismo_at_igatepmafurat</th>\n",
                                          "      <th>ind_testigo_at_igatepmafurat</th>\n",
                                          "      <th>descripcion_at_igatepmafurat</th>\n",
                                          "      <th>id_medio_recepcion_igatepmafurat</th>\n",
                                          "      <th>centro_trabajo_igual_igatepmafurat</th>\n",
                                          "      <th>accidente_grave_igatepmafurat</th>\n",
                                          "      <th>riesgo_biologico_igatepmafurat</th>\n",
                                          "      <th>id_sitio_ocurrencia_igatepmafurat</th>\n",
                                          "    </tr>\n",
                                          "  </thead>\n",
                                          "  <tbody>\n",
                                          "    <tr>\n",
                                          "      <th>0</th>\n",
                                          "      <td>s</td>\n",
                                          "      <td>s</td>\n",
                                          "      <td>0</td>\n",
                                          "      <td>2009-03-05 00:00:00+00:00</td>\n",
                                          "      <td>9</td>\n",
                                          "      <td>1</td>\n",
                                          "      <td>s</td>\n",
                                          "      <td>2</td>\n",
                                          "      <td>1</td>\n",
                                          "      <td>2</td>\n",
                                          "      <td>...</td>\n",
                                          "      <td>446</td>\n",
                                          "      <td>336</td>\n",
                                          "      <td>9</td>\n",
                                          "      <td>1</td>\n",
                                          "      <td>el trabajador se encontraba realizando su labo...</td>\n",
                                          "      <td>5</td>\n",
                                          "      <td>1</td>\n",
                                          "      <td>n</td>\n",
                                          "      <td>n</td>\n",
                                          "      <td>1</td>\n",
                                          "    </tr>\n",
                                          "    <tr>\n",
                                          "      <th>1</th>\n",
                                          "      <td>s</td>\n",
                                          "      <td>s</td>\n",
                                          "      <td>0</td>\n",
                                          "      <td>2009-03-04 00:00:00+00:00</td>\n",
                                          "      <td>1</td>\n",
                                          "      <td>1</td>\n",
                                          "      <td>s</td>\n",
                                          "      <td>7</td>\n",
                                          "      <td>1</td>\n",
                                          "      <td>2</td>\n",
                                          "      <td>...</td>\n",
                                          "      <td>3</td>\n",
                                          "      <td>5</td>\n",
                                          "      <td>3</td>\n",
                                          "      <td>0</td>\n",
                                          "      <td>el trabajador se encontraba lavando el chasis ...</td>\n",
                                          "      <td>5</td>\n",
                                          "      <td>1</td>\n",
                                          "      <td>n</td>\n",
                                          "      <td>n</td>\n",
                                          "      <td>1</td>\n",
                                          "    </tr>\n",
                                          "    <tr>\n",
                                          "      <th>2</th>\n",
                                          "      <td>s</td>\n",
                                          "      <td>s</td>\n",
                                          "      <td>0</td>\n",
                                          "      <td>2009-03-05 00:00:00+00:00</td>\n",
                                          "      <td>13</td>\n",
                                          "      <td>1</td>\n",
                                          "      <td>s</td>\n",
                                          "      <td>5</td>\n",
                                          "      <td>1</td>\n",
                                          "      <td>2</td>\n",
                                          "      <td>...</td>\n",
                                          "      <td>4</td>\n",
                                          "      <td>5</td>\n",
                                          "      <td>1</td>\n",
                                          "      <td>0</td>\n",
                                          "      <td>el trabajador se encontraba sentandose en una ...</td>\n",
                                          "      <td>5</td>\n",
                                          "      <td>1</td>\n",
                                          "      <td>n</td>\n",
                                          "      <td>n</td>\n",
                                          "      <td>1</td>\n",
                                          "    </tr>\n",
                                          "    <tr>\n",
                                          "      <th>3</th>\n",
                                          "      <td>s</td>\n",
                                          "      <td>s</td>\n",
                                          "      <td>0</td>\n",
                                          "      <td>2009-03-04 00:00:00+00:00</td>\n",
                                          "      <td>11</td>\n",
                                          "      <td>1</td>\n",
                                          "      <td>s</td>\n",
                                          "      <td>6</td>\n",
                                          "      <td>1</td>\n",
                                          "      <td>2</td>\n",
                                          "      <td>...</td>\n",
                                          "      <td>112</td>\n",
                                          "      <td>4</td>\n",
                                          "      <td>9</td>\n",
                                          "      <td>0</td>\n",
                                          "      <td>el trabajador se encontraba en la labor habitu...</td>\n",
                                          "      <td>5</td>\n",
                                          "      <td>1</td>\n",
                                          "      <td>n</td>\n",
                                          "      <td>n</td>\n",
                                          "      <td>1</td>\n",
                                          "    </tr>\n",
                                          "    <tr>\n",
                                          "      <th>4</th>\n",
                                          "      <td>s</td>\n",
                                          "      <td>s</td>\n",
                                          "      <td>0</td>\n",
                                          "      <td>2009-03-05 00:00:00+00:00</td>\n",
                                          "      <td>13</td>\n",
                                          "      <td>1</td>\n",
                                          "      <td>s</td>\n",
                                          "      <td>5</td>\n",
                                          "      <td>1</td>\n",
                                          "      <td>7</td>\n",
                                          "      <td>...</td>\n",
                                          "      <td>4</td>\n",
                                          "      <td>5</td>\n",
                                          "      <td>1</td>\n",
                                          "      <td>1</td>\n",
                                          "      <td>el trabajador se encontraba en sus labores hab...</td>\n",
                                          "      <td>5</td>\n",
                                          "      <td>1</td>\n",
                                          "      <td>n</td>\n",
                                          "      <td>n</td>\n",
                                          "      <td>1</td>\n",
                                          "    </tr>\n",
                                          "  </tbody>\n",
                                          "</table>\n",
                                          "<p>5 rows × 21 columns</p>\n",
                                          "</div>"
                                    ],
                                    "text/plain": [
                                          "  dto_igdacmlmasolicitudes pcl_igdacmlmasolicitudes  \\\n",
                                          "0                        s                        s   \n",
                                          "1                        s                        s   \n",
                                          "2                        s                        s   \n",
                                          "3                        s                        s   \n",
                                          "4                        s                        s   \n",
                                          "\n",
                                          "   tipo_siniestro_igdacmlmasolicitudes fecha_siniestro_igdacmlmasolicitudes  \\\n",
                                          "0                                    0            2009-03-05 00:00:00+00:00   \n",
                                          "1                                    0            2009-03-04 00:00:00+00:00   \n",
                                          "2                                    0            2009-03-05 00:00:00+00:00   \n",
                                          "3                                    0            2009-03-04 00:00:00+00:00   \n",
                                          "4                                    0            2009-03-05 00:00:00+00:00   \n",
                                          "\n",
                                          "   hora_at_igatepmafurat  ind_tipo_jornada_at_igatepmafurat  \\\n",
                                          "0                      9                                  1   \n",
                                          "1                      1                                  1   \n",
                                          "2                     13                                  1   \n",
                                          "3                     11                                  1   \n",
                                          "4                     13                                  1   \n",
                                          "\n",
                                          "  ind_realizando_trabajo_hab_at_igatepmafurat  horas_previo_at_igatepmafurat  \\\n",
                                          "0                                           s                              2   \n",
                                          "1                                           s                              7   \n",
                                          "2                                           s                              5   \n",
                                          "3                                           s                              6   \n",
                                          "4                                           s                              5   \n",
                                          "\n",
                                          "   id_municipio_at_igatepmafurat  ind_sitio_ocurrencia_igatepmafurat  ...  \\\n",
                                          "0                              1                                   2  ...   \n",
                                          "1                              1                                   2  ...   \n",
                                          "2                              1                                   2  ...   \n",
                                          "3                              1                                   2  ...   \n",
                                          "4                              1                                   7  ...   \n",
                                          "\n",
                                          "   id_parte_cuerpo_igatepmafurat  id_agente_at_igatepmafurat  \\\n",
                                          "0                            446                         336   \n",
                                          "1                              3                           5   \n",
                                          "2                              4                           5   \n",
                                          "3                            112                           4   \n",
                                          "4                              4                           5   \n",
                                          "\n",
                                          "   id_mecanismo_at_igatepmafurat  ind_testigo_at_igatepmafurat  \\\n",
                                          "0                              9                             1   \n",
                                          "1                              3                             0   \n",
                                          "2                              1                             0   \n",
                                          "3                              9                             0   \n",
                                          "4                              1                             1   \n",
                                          "\n",
                                          "                        descripcion_at_igatepmafurat  \\\n",
                                          "0  el trabajador se encontraba realizando su labo...   \n",
                                          "1  el trabajador se encontraba lavando el chasis ...   \n",
                                          "2  el trabajador se encontraba sentandose en una ...   \n",
                                          "3  el trabajador se encontraba en la labor habitu...   \n",
                                          "4  el trabajador se encontraba en sus labores hab...   \n",
                                          "\n",
                                          "  id_medio_recepcion_igatepmafurat  centro_trabajo_igual_igatepmafurat  \\\n",
                                          "0                                5                                   1   \n",
                                          "1                                5                                   1   \n",
                                          "2                                5                                   1   \n",
                                          "3                                5                                   1   \n",
                                          "4                                5                                   1   \n",
                                          "\n",
                                          "   accidente_grave_igatepmafurat riesgo_biologico_igatepmafurat  \\\n",
                                          "0                              n                              n   \n",
                                          "1                              n                              n   \n",
                                          "2                              n                              n   \n",
                                          "3                              n                              n   \n",
                                          "4                              n                              n   \n",
                                          "\n",
                                          "  id_sitio_ocurrencia_igatepmafurat  \n",
                                          "0                                 1  \n",
                                          "1                                 1  \n",
                                          "2                                 1  \n",
                                          "3                                 1  \n",
                                          "4                                 1  \n",
                                          "\n",
                                          "[5 rows x 21 columns]"
                                    ]
                              },
                              "execution_count": 3,
                              "metadata": {},
                              "output_type": "execute_result"
                        }
                  ],
                  "source": [
                        "# tomando los datos que ingresaría un usuario, por ende no tienen la transformación de datos necesaria para ser procesados por el modelo\n",
                        "df = pd.read_csv(f'{path}/data/user_input_example/user_input.csv', sep=';')\n",
                        "\n",
                        "df.head()"
                  ]
            },
            {
                  "cell_type": "code",
                  "execution_count": null,
                  "metadata": {},
                  "outputs": [
                        {
                              "name": "stderr",
                              "output_type": "stream",
                              "text": [
                                    "2025-03-11 13:49:07,339 - INFO - \tSe han remapeado los valores de la columna 'ind_realizando_trabajo_hab_at_igatepmafurat'.\n",
                                    "2025-03-11 13:49:07,345 - INFO - \tSe han ajustado las columnas de categoría.\n"
                              ]
                        },
                        {
                              "name": "stderr",
                              "output_type": "stream",
                              "text": [
                                    "2025-03-11 13:49:07,350 - INFO - \tSe han imputado los espacios vacíos o ceros en variables binarias.\n",
                                    "2025-03-11 13:49:07,356 - INFO - \tSe han extraído las variables temporales 'mes' y 'día' del siniestro.\n",
                                    "2025-03-11 13:49:07,365 - INFO - \tSe han capturado las periodicidades en las variables temporales con seno y coseno.\n"
                              ]
                        },
                        {
                              "name": "stdout",
                              "output_type": "stream",
                              "text": [
                                    "🔍 Cargando el pipeline desde: d:\\OneDrive - Universidad de La Salle\\Maestría IA\\S4\\Desarrollo de soluciones\\Proyecto\\Repo desarrollo soluciones\\src\\data_preprocessing\\trained_pipelines\\transformation_pipeline.pkl\n",
                                    "✅ Pipeline cargado exitosamente.\n"
                              ]
                        },
                        {
                              "name": "stderr",
                              "output_type": "stream",
                              "text": [
                                    "d:\\Python 3.12\\Lib\\site-packages\\sklearn\\pipeline.py:62: FutureWarning: This Pipeline instance is not fitted yet. Call 'fit' with appropriate arguments before using other methods such as transform, predict, etc. This will raise an error in 1.8 instead of the current warning.\n",
                                    "  warnings.warn(\n"
                              ]
                        }
                  ],
                  "source": [
                        "from transform_input import prepare_input_data\n",
                        "\n",
                        "# vamos a tomar solo dos filas para hacer pruebas\n",
                        "df_sample = df.iloc[:2].copy()\n",
                        "\n",
                        "data=prepare_input_data(df_sample).copy()\n"
                  ]
            },
            {
                  "cell_type": "code",
                  "execution_count": 5,
                  "metadata": {},
                  "outputs": [
                        {
                              "data": {
                                    "text/plain": [
                                          "(2, 303)"
                                    ]
                              },
                              "execution_count": 5,
                              "metadata": {},
                              "output_type": "execute_result"
                        }
                  ],
                  "source": [
                        "data.shape"
                  ]
            },
            {
                  "cell_type": "code",
                  "execution_count": 6,
                  "metadata": {},
                  "outputs": [
                        {
                              "name": "stdout",
                              "output_type": "stream",
                              "text": [
                                    "🔮 Predicción: [0 1]\n"
                              ]
                        }
                  ],
                  "source": [
                        "\n",
                        "predictions = model.predict(data)\n",
                        "print(\"🔮 Predicción:\", predictions)\n"
                  ]
            }
      ],
      "metadata": {
            "kernelspec": {
                  "display_name": "Python 3",
                  "language": "python",
                  "name": "python3"
            },
            "language_info": {
                  "codemirror_mode": {
                        "name": "ipython",
                        "version": 3
                  },
                  "file_extension": ".py",
                  "mimetype": "text/x-python",
                  "name": "python",
                  "nbconvert_exporter": "python",
                  "pygments_lexer": "ipython3",
                  "version": "3.12.6"
            }
      },
      "nbformat": 4,
      "nbformat_minor": 2
}
