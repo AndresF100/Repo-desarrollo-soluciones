{
 "cells": [
  {
   "cell_type": "code",
   "execution_count": 1,
   "metadata": {},
   "outputs": [
    {
     "name": "stderr",
     "output_type": "stream",
     "text": [
      "2025-02-28 20:15:57,714 - INFO - Iniciando pipeline de preprocesamiento...\n",
      "2025-02-28 20:15:57,714 - INFO - 📊 1. Carga de datos.\n",
      "2025-02-28 20:15:57,714 - INFO - \tCargando datos desde: D:\\OneDrive - Universidad de La Salle\\Maestría IA\\S4\\Desarrollo de soluciones\\Proyecto\\Repo desarrollo soluciones\\data\\raw\\clasificacion_siniestros.csv\n",
      "2025-02-28 20:15:58,427 - INFO - ✅ Datos cargados: 63164 filas y 66 columnas.\n",
      "2025-02-28 20:15:58,427 - INFO - 🧹 2. Limpieza de datos.\n",
      "2025-02-28 20:15:58,439 - INFO - \tIniciando limpieza: (63164, 66) registros.\n",
      "2025-02-28 20:15:58,704 - INFO - \tColumnas eliminadas por irrelevancia: ['id_furat_furep_igdacmlmasolicitudes', 'id_solicitud_igdacmlmasolicitudes', 'fecha_solicitud_igdacmlmasolicitudes', 'fecha_modificacion_aud_igdacmlmasolicitudes', 'dto_igdacmlmasolicitudes', 'pcl_igdacmlmasolicitudes', 'id_furat_igatepmafurat', 'id_siniestro_igatepmafurat', 'minuto_at_igatepmafurat', 'nombre_ocupacion_igatepmafurat', 'horas_previo_at_igatepmafurat', 'minutos_previo_at_igatepmafurat', 'ind_tipo_at_igatepmafurat', 'ind_muerte_igatepmafurat', 'fecha_muerte_igatepmafurat', 'otro_sitio_ocurrencia_igatepmafurat', 'otro_tipo_lesion_igatepmafurat', 'otro_mecanismo_accidente_igatepmafurat', 'ind_testigo_at_igatepmafurat', 'fecha_diligenciamiento_igatepmafurat', 'fecha_radicacion_igatepmafurat', 'id_medio_recepcion_igatepmafurat', 'oficio_solicitud_igatepmafurat', 'centro_trabajo_igual_igatepmafurat', 'accidente_grave_igatepmafurat', 'riesgo_biologico_igatepmafurat', 'id_sitio_ocurrencia_igatepmafurat', 'monto_reserva_igatepmafurat', 'dias_incapacidad_igatepmafurat', 'muerte_posterior_igatepmafurat', 'estado_reserva_igatepmafurat', 'fecha_aviso_muerte_igatepmafurat', 'fecha_modificacion_aud_igatepmafurat', 'id_solicitud_igacctmimvdiagnosticos', 'cons_diag_igacctmimvdiagnosticos', 'nombre_diagnostico_igacctmimvdiagnosticos', 'tipo_calificador_igacctmimvdiagnosticos', 'tipo_calificacion_igacctmimvdiagnosticos', 'id_calificacion_dto_igdactmlmacalificacionorigen', 'id_solicitud_igdactmlmacalificacionorigen', 'fecha_dictamen_igdactmlmacalificacionorigen', 'fecha_estructuracion_igdactmlmacalificacionorigen', 'fecha_modificacion_aud_igdactmlmacalificacionorigen']\n",
      "2025-02-28 20:15:58,728 - INFO - \tColumnas eliminadas por alto porcentaje de nulos (>50%): ['id_act_economica_igdacmlmasolicitudes', 'id_dx_igacctmimvdiagnosticos', 'fecha_modificacion_aud_igacctmimvdiagnosticos']\n",
      "2025-02-28 20:15:58,813 - INFO - \tTotal registros eliminados por outliers: 2713.\n",
      "2025-02-28 20:15:58,956 - INFO - \tLimpieza completada: (60449, 19) registros (cambio de (63164, 66) a (60449, 19)).\n",
      "2025-02-28 20:15:58,964 - INFO - ✅ Proceso de limpieza finalizado.\n",
      "2025-02-28 20:15:58,968 - INFO - 🔄 3. Transformación de datos.\n",
      "2025-02-28 20:15:58,994 - INFO - \tSe han extraído las variables temporales 'mes' y 'día' del siniestro.\n",
      "2025-02-28 20:15:58,998 - INFO - \tSe han remapeado los valores de la columna 'ind_realizando_trabajo_hab_at_igatepmafurat'.\n",
      "2025-02-28 20:15:59,305 - INFO - \tSe han ajustado las columnas de categoría.\n",
      "2025-02-28 20:15:59,660 - INFO - \tSe han capturado las periodicidades en las variables temporales con seno y coseno.\n",
      "2025-02-28 20:15:59,667 - INFO - ✅ Proceso de transformación finalizado.\n"
     ]
    }
   ],
   "source": [
    "import logging\n",
    "from data_loader import load_data\n",
    "from data_cleaning import clean_data\n",
    "from data_transformation import transform_data\n",
    "\n",
    "logging.basicConfig(level=logging.INFO, format=\"%(asctime)s - %(levelname)s - %(message)s\")\n",
    "\n",
    "# def run_data_preprocessing_pipeline()\n",
    "\n",
    "logging.info(\"Iniciando pipeline de preprocesamiento...\")\n",
    "\n",
    "logging.info(f\"📊 1. Carga de datos.\")\n",
    "data = load_data(\"clasificacion_siniestros.csv\")\n",
    "logging.info(f\"✅ Datos cargados: {data.shape[0]} filas y {data.shape[1]} columnas.\")\n",
    "\n",
    "logging.info(f\"🧹 2. Limpieza de datos.\")\n",
    "data = clean_data(data.copy())\n",
    "logging.info(f\"✅ Proceso de limpieza finalizado.\")\n",
    "\n",
    "logging.info(f\"🔄 3. Transformación de datos.\")\n",
    "data = transform_data(data.copy())\n",
    "logging.info(f\"✅ Proceso de transformación finalizado.\")\n"
   ]
  },
  {
   "cell_type": "code",
   "execution_count": null,
   "metadata": {},
   "outputs": [],
   "source": []
  }
 ],
 "metadata": {
  "kernelspec": {
   "display_name": "base",
   "language": "python",
   "name": "python3"
  },
  "language_info": {
   "codemirror_mode": {
    "name": "ipython",
    "version": 3
   },
   "file_extension": ".py",
   "mimetype": "text/x-python",
   "name": "python",
   "nbconvert_exporter": "python",
   "pygments_lexer": "ipython3",
   "version": "3.11.7"
  }
 },
 "nbformat": 4,
 "nbformat_minor": 2
}
