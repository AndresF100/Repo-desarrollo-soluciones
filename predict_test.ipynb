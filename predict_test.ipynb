{
 "cells": [
  {
   "cell_type": "code",
   "execution_count": 7,
   "metadata": {},
   "outputs": [
    {
     "name": "stderr",
     "output_type": "stream",
     "text": [
      "/home/scallopfrito/Proyecto_MLOps/Repo-desarrollo-soluciones/lib/python3.12/site-packages/mlflow/store/artifact/utils/models.py:31: FutureWarning: ``mlflow.tracking.client.MlflowClient.get_latest_versions`` is deprecated since 2.9.0. Model registry stages will be removed in a future major release. To learn more about the deprecation of model registry stages, see our migration guide here: https://mlflow.org/docs/latest/model-registry.html#migrating-from-stages\n",
      "  latest = client.get_latest_versions(name, None if stage is None else [stage])\n"
     ]
    }
   ],
   "source": [
    "import mlflow\n",
    "\n",
    "# Establece la URI de MLflow\n",
    "mlflow.set_tracking_uri(\"http://3.208.31.127:8050\")\n",
    "\n",
    "model_uri = \"models:/best_model_2025_03_02/production\"\n",
    "model = mlflow.sklearn.load_model(model_uri)\n"
   ]
  },
  {
   "cell_type": "code",
   "execution_count": 19,
   "metadata": {},
   "outputs": [
    {
     "name": "stdout",
     "output_type": "stream",
     "text": [
      "🔮 Predicción: [1 1 1 ... 1 1 1]\n",
      "f1_score: 0.9379883607880011\n"
     ]
    }
   ],
   "source": [
    "import scipy.sparse\n",
    "import pandas as pd\n",
    "from sklearn.metrics import f1_score\n",
    "\n",
    "\n",
    "X_test = scipy.sparse.load_npz(\"data/processed/X_test.npz\")\n",
    "y_test = pd.read_csv(\"data/processed/y_test.csv\")\n",
    "\n",
    "# Predicción\n",
    "predictions = model.predict(X_test)\n",
    "print(\"🔮 Predicción:\", predictions)\n",
    "\n",
    "# Saves the X_test, ytest and predictions columns  as a CSV file in the data directory\n",
    "df = pd.DataFrame(data={\"y_test\": y_test[\"0\"], \"predictions\": predictions})\n",
    "df.to_csv(\"data/visual/predictions.csv\", sep=',',index=False)\n",
    "\n",
    "\n",
    "f1 = f1_score(y_test, predictions, average='weighted')\n",
    "print(\"f1_score:\", f1)\n",
    "\n"
   ]
  }
 ],
 "metadata": {
  "kernelspec": {
   "display_name": "Repo-desarrollo-soluciones",
   "language": "python",
   "name": "python3"
  },
  "language_info": {
   "codemirror_mode": {
    "name": "ipython",
    "version": 3
   },
   "file_extension": ".py",
   "mimetype": "text/x-python",
   "name": "python",
   "nbconvert_exporter": "python",
   "pygments_lexer": "ipython3",
   "version": "3.12.3"
  }
 },
 "nbformat": 4,
 "nbformat_minor": 2
}
