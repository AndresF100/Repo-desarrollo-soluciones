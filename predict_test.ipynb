{
      "cells": [
            {
                  "cell_type": "code",
                  "execution_count": 6,
                  "metadata": {},
                  "outputs": [
                        {
                              "name": "stderr",
                              "output_type": "stream",
                              "text": [
                                    "d:\\Python 3.12\\Lib\\site-packages\\mlflow\\store\\artifact\\utils\\models.py:31: FutureWarning: ``mlflow.tracking.client.MlflowClient.get_latest_versions`` is deprecated since 2.9.0. Model registry stages will be removed in a future major release. To learn more about the deprecation of model registry stages, see our migration guide here: https://mlflow.org/docs/latest/model-registry.html#migrating-from-stages\n",
                                    "  latest = client.get_latest_versions(name, None if stage is None else [stage])\n",
                                    "d:\\Python 3.12\\Lib\\site-packages\\tqdm\\auto.py:21: TqdmWarning: IProgress not found. Please update jupyter and ipywidgets. See https://ipywidgets.readthedocs.io/en/stable/user_install.html\n",
                                    "  from .autonotebook import tqdm as notebook_tqdm\n",
                                    "Downloading artifacts: 100%|██████████| 5/5 [00:00<00:00, 10.77it/s]\n"
                              ]
                        }
                  ],
                  "source": [
                        "import mlflow\n",
                        "from dotenv import load_dotenv, find_dotenv\n",
                        "import os\n",
                        "\n",
                        "# Carga las variables de entorno\n",
                        "load_dotenv(\".env.mlflow_server\")\n",
                        "\n",
                        "f\"http://{os.getenv(\"MLFLOW_MACHINE_IP\")}:8050\"\n",
                        "\n",
                        "# Establece la URI de MLflow\n",
                        "mlflow.set_tracking_uri(f\"http://{os.getenv(\"MLFLOW_MACHINE_IP\")}:8050\")\n",
                        "\n",
                        "model_uri = \"models:/best_model_2025_03_02/production\"\n",
                        "model = mlflow.sklearn.load_model(model_uri)\n",
                        "\n"
                  ]
            },
            {
                  "cell_type": "code",
                  "execution_count": 8,
                  "metadata": {},
                  "outputs": [
                        {
                              "name": "stdout",
                              "output_type": "stream",
                              "text": [
                                    "🔮 Predicción: [1 1 1 ... 1 1 1]\n",
                                    "f1_score: 0.9379883607880011\n"
                              ]
                        }
                  ],
                  "source": [
                        "import scipy.sparse\n",
                        "import pandas as pd\n",
                        "from sklearn.metrics import f1_score\n",
                        "\n",
                        "\n",
                        "X_test = scipy.sparse.load_npz(\"data/processed/X_test.npz\")\n",
                        "y_test = pd.read_csv(\"data/processed/y_test.csv\")\n",
                        "\n",
                        "# Predicción\n",
                        "predictions = model.predict(X_test)\n",
                        "print(\"🔮 Predicción:\", predictions)\n",
                        "\n",
                        "\n",
                        "f1 = f1_score(y_test, predictions, average='weighted')\n",
                        "print(\"f1_score:\", f1)\n",
                        "\n"
                  ]
            }
      ],
      "metadata": {
            "kernelspec": {
                  "display_name": "Python 3",
                  "language": "python",
                  "name": "python3"
            },
            "language_info": {
                  "codemirror_mode": {
                        "name": "ipython",
                        "version": 3
                  },
                  "file_extension": ".py",
                  "mimetype": "text/x-python",
                  "name": "python",
                  "nbconvert_exporter": "python",
                  "pygments_lexer": "ipython3",
                  "version": "3.12.6"
            }
      },
      "nbformat": 4,
      "nbformat_minor": 2
}
